{
 "cells": [
  {
   "cell_type": "code",
   "execution_count": 2,
   "metadata": {},
   "outputs": [
    {
     "name": "stdout",
     "output_type": "stream",
     "text": [
      "[\n",
      "    {\n",
      "        \"latitude\": 52.400974444444444,\n",
      "        \"longitude\": 13.365776666666667,\n",
      "        \"value\": 7.397679225374213\n",
      "    },\n",
      "    {\n",
      "        \"latitude\": 52.400974444444444,\n",
      "        \"longitude\": 13.370038383838384,\n",
      "        \"value\": 8.587491059644172\n",
      "    },\n",
      "    {\n",
      "        \"latitude\": 52.400974444444444,\n",
      "        \"longitude\": 13.374300101010101,\n",
      "        \"value\": 9.487434512558702\n",
      "    },\n",
      "    {\n",
      "        \"latitude\": 52.400974444444444,\n",
      "        \"longitude\": 13.378561818181819,\n",
      "        \"value\": 10.4699\n"
     ]
    }
   ],
   "source": [
    "import pandas as pd\n",
    "import numpy as np\n",
    "import json\n",
    "from scipy.interpolate import griddata\n",
    "\n",
    "# Load and prepare the data\n",
    "file_path = 'processed.csv'  # Update the path accordingly\n",
    "data = pd.read_csv(file_path)\n",
    "date_to_use = \"2024-04-18\"\n",
    "filtered_data = data[data['Date'] == date_to_use]\n",
    "clean_data = filtered_data.dropna(subset=['Value', 'lat', 'lng'])\n",
    "\n",
    "# Define coordinates and values for interpolation\n",
    "coordinates = clean_data[['lat', 'lng']].values\n",
    "values = clean_data['Value'].values\n",
    "\n",
    "# Create the interpolation grid\n",
    "grid_x, grid_y = np.mgrid[\n",
    "    clean_data['lat'].min():clean_data['lat'].max():100j, \n",
    "    clean_data['lng'].min():clean_data['lng'].max():100j\n",
    "]\n",
    "grid_z = griddata(coordinates, values, (grid_x, grid_y), method='cubic')\n",
    "\n",
    "# Create JSON data, excluding NaN values\n",
    "json_data = []\n",
    "for i in range(grid_x.shape[0]):\n",
    "    for j in range(grid_x.shape[1]):\n",
    "        if not np.isnan(grid_z[i, j]):  # Check if the interpolated value is not NaN\n",
    "            point = {\n",
    "                'latitude': grid_x[i, j],\n",
    "                'longitude': grid_y[i, j],\n",
    "                'value': grid_z[i, j]\n",
    "            }\n",
    "            json_data.append(point)\n",
    "\n",
    "# Convert the list of dictionaries to a JSON string\n",
    "json_output = json.dumps(json_data, indent=4)\n",
    "\n",
    "# Optionally, save the JSON to a file\n",
    "with open('interp_data.json', 'w') as f:\n",
    "    f.write(json_output)\n",
    "\n",
    "# Print out a preview of the JSON output\n",
    "print(json_output[:500])  # print the first 500 characters to check\n"
   ]
  },
  {
   "cell_type": "code",
   "execution_count": null,
   "metadata": {},
   "outputs": [],
   "source": []
  }
 ],
 "metadata": {
  "kernelspec": {
   "display_name": "data4good",
   "language": "python",
   "name": "python3"
  },
  "language_info": {
   "codemirror_mode": {
    "name": "ipython",
    "version": 3
   },
   "file_extension": ".py",
   "mimetype": "text/x-python",
   "name": "python",
   "nbconvert_exporter": "python",
   "pygments_lexer": "ipython3",
   "version": "3.11.9"
  }
 },
 "nbformat": 4,
 "nbformat_minor": 2
}
