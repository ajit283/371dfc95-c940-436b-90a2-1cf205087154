{
 "cells": [
  {
   "cell_type": "code",
   "execution_count": 13,
   "metadata": {},
   "outputs": [
    {
     "name": "stdout",
     "output_type": "stream",
     "text": [
      "Adjusting data for anisotropy...\n",
      "Initializing variogram model...\n",
      "Coordinates type: 'euclidean' \n",
      "\n",
      "Using 'exponential' Variogram Model\n",
      "Partial Sill: 80.53515464719038\n",
      "Full Sill: 94.41677613785475\n",
      "Range: 0.1\n",
      "Nugget: 13.881621490664376 \n",
      "\n",
      "Calculating statistics on variogram model fit...\n",
      "Executing Ordinary Kriging...\n",
      "\n"
     ]
    },
    {
     "ename": "TypeError",
     "evalue": "mercator_projection() got an unexpected keyword argument 'inverse'",
     "output_type": "error",
     "traceback": [
      "\u001b[1;31m---------------------------------------------------------------------------\u001b[0m",
      "\u001b[1;31mTypeError\u001b[0m                                 Traceback (most recent call last)",
      "Cell \u001b[1;32mIn[13], line 55\u001b[0m\n\u001b[0;32m     52\u001b[0m     \u001b[38;5;28mprint\u001b[39m(\u001b[38;5;124mf\u001b[39m\u001b[38;5;124m\"\u001b[39m\u001b[38;5;124mData saved to \u001b[39m\u001b[38;5;132;01m{\u001b[39;00moutput_file\u001b[38;5;132;01m}\u001b[39;00m\u001b[38;5;124m\"\u001b[39m)\n\u001b[0;32m     54\u001b[0m \u001b[38;5;66;03m# Specify the output filename here\u001b[39;00m\n\u001b[1;32m---> 55\u001b[0m \u001b[43mgenerate_kriging_json_mercator\u001b[49m\u001b[43m(\u001b[49m\u001b[38;5;124;43m'\u001b[39;49m\u001b[38;5;124;43mprocessed.csv\u001b[39;49m\u001b[38;5;124;43m'\u001b[39;49m\u001b[43m,\u001b[49m\u001b[43m \u001b[49m\u001b[38;5;241;43m100\u001b[39;49m\u001b[43m,\u001b[49m\u001b[43m \u001b[49m\u001b[38;5;124;43m'\u001b[39;49m\u001b[38;5;124;43minterp_data_mercator.json\u001b[39;49m\u001b[38;5;124;43m'\u001b[39;49m\u001b[43m)\u001b[49m\n",
      "Cell \u001b[1;32mIn[13], line 42\u001b[0m, in \u001b[0;36mgenerate_kriging_json_mercator\u001b[1;34m(filename, num_points, output_file)\u001b[0m\n\u001b[0;32m     40\u001b[0m \u001b[38;5;28;01mfor\u001b[39;00m i \u001b[38;5;129;01min\u001b[39;00m \u001b[38;5;28mrange\u001b[39m(num_points):\n\u001b[0;32m     41\u001b[0m     \u001b[38;5;28;01mfor\u001b[39;00m j \u001b[38;5;129;01min\u001b[39;00m \u001b[38;5;28mrange\u001b[39m(num_points):\n\u001b[1;32m---> 42\u001b[0m         lon, lat \u001b[38;5;241m=\u001b[39m \u001b[43mmercator_projection\u001b[49m\u001b[43m(\u001b[49m\u001b[43mgrid_y\u001b[49m\u001b[43m[\u001b[49m\u001b[43mi\u001b[49m\u001b[43m,\u001b[49m\u001b[43m \u001b[49m\u001b[43mj\u001b[49m\u001b[43m]\u001b[49m\u001b[43m,\u001b[49m\u001b[43m \u001b[49m\u001b[43mgrid_x\u001b[49m\u001b[43m[\u001b[49m\u001b[43mi\u001b[49m\u001b[43m,\u001b[49m\u001b[43m \u001b[49m\u001b[43mj\u001b[49m\u001b[43m]\u001b[49m\u001b[43m,\u001b[49m\u001b[43m \u001b[49m\u001b[43minverse\u001b[49m\u001b[38;5;241;43m=\u001b[39;49m\u001b[38;5;28;43;01mTrue\u001b[39;49;00m\u001b[43m)\u001b[49m\n\u001b[0;32m     43\u001b[0m         output\u001b[38;5;241m.\u001b[39mappend({\n\u001b[0;32m     44\u001b[0m             \u001b[38;5;124m\"\u001b[39m\u001b[38;5;124mlat\u001b[39m\u001b[38;5;124m\"\u001b[39m: lat,\n\u001b[0;32m     45\u001b[0m             \u001b[38;5;124m\"\u001b[39m\u001b[38;5;124mlon\u001b[39m\u001b[38;5;124m\"\u001b[39m: lon,\n\u001b[0;32m     46\u001b[0m             \u001b[38;5;124m\"\u001b[39m\u001b[38;5;124mvalue\u001b[39m\u001b[38;5;124m\"\u001b[39m: z[i, j]\n\u001b[0;32m     47\u001b[0m         })\n\u001b[0;32m     49\u001b[0m \u001b[38;5;28;01mwith\u001b[39;00m \u001b[38;5;28mopen\u001b[39m(output_file, \u001b[38;5;124m'\u001b[39m\u001b[38;5;124mw\u001b[39m\u001b[38;5;124m'\u001b[39m) \u001b[38;5;28;01mas\u001b[39;00m f:\n",
      "\u001b[1;31mTypeError\u001b[0m: mercator_projection() got an unexpected keyword argument 'inverse'"
     ]
    }
   ],
   "source": [
    "import pandas as pd\n",
    "import numpy as np\n",
    "import json\n",
    "from pykrige.ok import OrdinaryKriging\n",
    "import math\n",
    "\n",
    "def mercator_projection(lat, lon):\n",
    "    \"\"\" Convert lat, lon in degrees to Mercator projection \"\"\"\n",
    "    x = lon\n",
    "    y = math.log(math.tan((90 + lat) * math.pi / 360)) / (math.pi / 180)\n",
    "    y = y * 20037508.34 / 180\n",
    "    return x, y\n",
    "\n",
    "def generate_kriging_json_mercator(filename, num_points, output_file):\n",
    "    data = pd.read_csv(filename)\n",
    "    data.dropna(subset=['Value', 'lat', 'lng'], inplace=True)\n",
    "\n",
    "    # Convert coordinates to Mercator\n",
    "    mercator_coords = data.apply(lambda row: mercator_projection(row['lat'], row['lng']), axis=1)\n",
    "    data['mercator_x'] = mercator_coords.apply(lambda x: x[0])\n",
    "    data['mercator_y'] = mercator_coords.apply(lambda x: x[1])\n",
    "\n",
    "    # Define grid in Mercator coordinates\n",
    "    grid_x = np.linspace(data['mercator_x'].min(), data['mercator_x'].max(), num_points)\n",
    "    grid_y = np.linspace(data['mercator_y'].min(), data['mercator_y'].max(), num_points)\n",
    "    grid_x, grid_y = np.meshgrid(grid_x, grid_y)\n",
    "\n",
    "    # Initialize and execute Ordinary Kriging\n",
    "    ok_model = OrdinaryKriging(\n",
    "        data['mercator_x'].values, data['mercator_y'].values, data['Value'].values,\n",
    "        variogram_model='exponential',\n",
    "        variogram_parameters={'sill': 94.41677613785475, 'range': 0.1, 'nugget': 13.881621490664376},\n",
    "        verbose=True,\n",
    "        enable_plotting=False\n",
    "    )\n",
    "    z, ss = ok_model.execute('grid', grid_x[0], grid_y[:,0])\n",
    "\n",
    "    # Convert grid back to lat, lon for output (optional)\n",
    "    output = []\n",
    "    for i in range(num_points):\n",
    "        for j in range(num_points):\n",
    "            lon, lat = mercator_projection(grid_y[i, j], grid_x[i, j])\n",
    "            output.append({\n",
    "                \"lat\": lat,\n",
    "                \"lon\": lon,\n",
    "                \"value\": z[i, j]\n",
    "            })\n",
    "\n",
    "    with open(output_file, 'w') as f:\n",
    "        json.dump(output, f, indent=4)\n",
    "    \n",
    "    print(f\"Data saved to {output_file}\")\n",
    "\n",
    "# Specify the output filename here\n",
    "generate_kriging_json_mercator('processed.csv', 100, 'interp_data_mercator.json')\n"
   ]
  },
  {
   "cell_type": "code",
   "execution_count": null,
   "metadata": {},
   "outputs": [],
   "source": []
  }
 ],
 "metadata": {
  "kernelspec": {
   "display_name": "data4good",
   "language": "python",
   "name": "python3"
  },
  "language_info": {
   "codemirror_mode": {
    "name": "ipython",
    "version": 3
   },
   "file_extension": ".py",
   "mimetype": "text/x-python",
   "name": "python",
   "nbconvert_exporter": "python",
   "pygments_lexer": "ipython3",
   "version": "3.11.9"
  }
 },
 "nbformat": 4,
 "nbformat_minor": 2
}
